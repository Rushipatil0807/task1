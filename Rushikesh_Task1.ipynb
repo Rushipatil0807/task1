{
  "nbformat": 4,
  "nbformat_minor": 0,
  "metadata": {
    "colab": {
      "provenance": []
    },
    "kernelspec": {
      "name": "python3",
      "display_name": "Python 3"
    },
    "language_info": {
      "name": "python"
    }
  },
  "cells": [
    {
      "cell_type": "code",
      "execution_count": 9,
      "metadata": {
        "colab": {
          "base_uri": "https://localhost:8080/"
        },
        "id": "hCGNRlLxHDzv",
        "outputId": "5cb7a5f1-8b8d-4468-9218-53c37ffed3f4"
      },
      "outputs": [
        {
          "output_type": "stream",
          "name": "stdout",
          "text": [
            "updated list: [20, 21, 22, 24, 19]\n"
          ]
        }
      ],
      "source": [
        "#creating a list\n",
        "my_list = [20,21,22,23,24]\n",
        "\n",
        "#adding an element to the list\n",
        "my_list.append(25)\n",
        "\n",
        "#removing an element from list\n",
        "my_list.remove(23)\n",
        "\n",
        "#modifying an element in the list\n",
        "my_list[4]= 19\n",
        "\n",
        "print(\"updated list:\",my_list)"
      ]
    },
    {
      "cell_type": "code",
      "source": [
        "#creating a dictionary\n",
        "\n",
        "my_dict = {\"name\": \"Rushi\", \"age\":24,\"city\":\"kolhapur\"}\n",
        "\n",
        "#adding\n",
        "my_dict[\"gender\"]=\"Male\"\n",
        "\n",
        "#removing\n",
        "del my_dict[\"age\"]\n",
        "\n",
        "print(\"updated Dictionary:\" ,my_dict)"
      ],
      "metadata": {
        "colab": {
          "base_uri": "https://localhost:8080/"
        },
        "id": "a72AKMexIrad",
        "outputId": "0786bb28-3eca-4e3a-eb50-ea06b946cd9f"
      },
      "execution_count": 16,
      "outputs": [
        {
          "output_type": "stream",
          "name": "stdout",
          "text": [
            "updated Dictionary: {'name': 'Rushi', 'city': 'kolhapur', 'gender': 'Male'}\n"
          ]
        }
      ]
    },
    {
      "cell_type": "code",
      "source": [
        "#creating a set\n",
        "\n",
        "my_set= {1,2,3,4,5}\n",
        "\n",
        "#adding\n",
        "my_set.add(6)\n",
        "\n",
        "#removing\n",
        "my_set.remove(3)\n",
        "\n",
        "#modifying\n",
        "my_set.discard(1)\n",
        "my_set.add(10)\n",
        "\n",
        "print(\"updated set\",my_set)"
      ],
      "metadata": {
        "colab": {
          "base_uri": "https://localhost:8080/"
        },
        "id": "ehnymVGUJctv",
        "outputId": "84bfafa9-b50e-4a28-b050-b4eab5712d30"
      },
      "execution_count": 17,
      "outputs": [
        {
          "output_type": "stream",
          "name": "stdout",
          "text": [
            "updated set {2, 4, 5, 6, 10}\n"
          ]
        }
      ]
    }
  ]
}